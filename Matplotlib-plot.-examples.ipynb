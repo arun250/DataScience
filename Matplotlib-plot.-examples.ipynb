{
 "cells": [
  {
   "cell_type": "markdown",
   "id": "7e69fb8c-21bc-4861-b865-a99ca2d5cd1e",
   "metadata": {},
   "source": [
    "### Matplotlib Tutorial "
   ]
  },
  {
   "cell_type": "markdown",
   "id": "558fd730-f3f9-4f91-b23e-11945850646a",
   "metadata": {},
   "source": [
    "#### Examples of plots "
   ]
  },
  {
   "cell_type": "markdown",
   "id": "71c8255d-59a3-4bc5-9b6d-d1515a24b3cd",
   "metadata": {},
   "source": [
    "#### Line chart"
   ]
  },
  {
   "cell_type": "markdown",
   "id": "9af0d3d2-3c4e-4876-b1f0-dd69951388c3",
   "metadata": {},
   "source": [
    "import matplotlib.pyplot as plt\n",
    "import pandas as pd\n",
    "\n",
    "# Preview the dataset\n",
    "df.head()\n",
    "\n",
    "\n",
    "\n",
    "plt.figure(figsize =(10,6))\n",
    "plt.plot(df[\"month\"], df[\"growth_rate\"], color = \"blue\", linewidth = 2, marker = \"o\")\n",
    "plt.title(\"Monthly growth rate of new Sub\")\n",
    "plt.xlabel('Month')\n",
    "plt.ylabel('Growth Rate (%)')\n",
    "plt.grid(True)\n",
    "plt.xticks(rotation=45)\n",
    "plt.tight_layout()\n",
    "plt.show()\n"
   ]
  },
  {
   "cell_type": "markdown",
   "id": "76b92766-104d-443e-b695-87fa8958b0be",
   "metadata": {},
   "source": [
    "#### Pie chart (Doughtnut chart)"
   ]
  },
  {
   "cell_type": "markdown",
   "id": "9d22f10e-6ad3-4790-8adb-4505067d2368",
   "metadata": {},
   "source": [
    "import matplotlib.pyplot as plt\n",
    "\n",
    "# Preview the dataset\n",
    "df.head()\n",
    "\n",
    "# Create the graph\n",
    "\n",
    "x = df[\"category\"]\n",
    "y = df[\"spending\"]\n",
    "colors = ['navy', 'gray', 'teal']\n",
    "plt.figure(figsize=(8,8))\n",
    "plt.pie(y,colors=colors,labels = x, autopct = \"%1.1f%%\")\n",
    "#draw circle\n",
    "centre_circle = plt.Circle((0,0),0.70,fc=\"white\")\n",
    "fig = plt.gcf()\n",
    "\n",
    "fig.gca().add_artist(centre_circle)\n",
    "plt.title(\"Breakdown of Annual IT Spending by Category\")\n",
    "#plt.legend(x, loc =\"upper right\")\n",
    "plt.show()\n"
   ]
  },
  {
   "cell_type": "markdown",
   "id": "50f5eadf-691c-409a-9b07-68fe0c7da6b2",
   "metadata": {},
   "source": [
    "#### Pie chart"
   ]
  },
  {
   "cell_type": "code",
   "execution_count": null,
   "id": "26f06ed1-dfac-4c28-8e1e-43aca44ee243",
   "metadata": {},
   "outputs": [],
   "source": [
    "import matplotlib.pyplot as plt\n",
    "\n",
    "# Preview the dataset\n",
    "df.head()\n",
    "\n",
    "# Create the graph\n",
    "\n",
    "colors = {'Brand A': 'turquoise', 'Brand B': 'tomato', 'Brand C': 'orchid'}\n",
    "plt.figure(figsize=(8,8))\n",
    "plt.pie(df[\"market_share\"], labels = df[\"brand\"],\n",
    "colors = [colors[brands] for brands in df[\"brand\"]], autopct = \"%.2f%%\", startangle = 140)\n",
    "plt.title(\"Market Share Distribution Among Smartphone Brands\")\n",
    "plt.axis(\"equal\")\n",
    "plt.show()"
   ]
  },
  {
   "cell_type": "markdown",
   "id": "f6b2f2e0-e9ed-47c4-a2d2-bccaa19eb540",
   "metadata": {},
   "source": [
    "### Bar chart"
   ]
  },
  {
   "cell_type": "code",
   "execution_count": null,
   "id": "3f11c7f1-8ae8-43e2-83fc-eb87d848584c",
   "metadata": {},
   "outputs": [],
   "source": [
    "import matplotlib.pyplot as plt\n",
    "\n",
    "# Preview the dataset\n",
    "df.head()\n",
    "\n",
    "# Create the graph\n",
    "plt.figure(figsize=(10,6))\n",
    "colors = {'Brand A': 'gold', 'Brand B': 'silver', 'Brand C': '#cd7f32'}\n",
    "plt.bar(df[\"brand\"],df[\"annual_revenue\"],color =[colors[brand]for brand in df[\"brand\"]])\n",
    "plt.title(\"Annual revenue Comparison\")\n",
    "plt.xlabel(\"Brand\")\n",
    "plt.ylabel(\"Annual Revenue($ Millons)\")\n",
    "plt.show()"
   ]
  },
  {
   "cell_type": "markdown",
   "id": "df86161f-8ae3-459b-9903-974883a1eb1c",
   "metadata": {},
   "source": [
    "#### Word cloud"
   ]
  },
  {
   "cell_type": "code",
   "execution_count": null,
   "id": "3962ae22-605b-4d4a-818f-96428daea512",
   "metadata": {},
   "outputs": [],
   "source": [
    "from wordcloud import WordCloud\n",
    "import matplotlib.pyplot as plt\n",
    "\n",
    "# Preview the dataset\n",
    "feedback\n",
    "\n",
    "# Create the graphvivo\n",
    "text = \" \".join(feedback)\n",
    "\n",
    "def color_func(word, *args, **kwargs):\n",
    "    if word in [\"fast\",\"reliable\",\"user-friendly\",\"excellent\",\"intuitive\",\"stable\",\"improved\"]:\n",
    "        return \"violet\"\n",
    "    else:\n",
    "        return \"lavender\"\n",
    "        \n",
    "\n",
    "wordcloud = WordCloud(width=800, height=400, background_color='white', color_func=color_func, random_state=1).generate(text)\n",
    "plt.figure(figsize=(10,5))\n",
    "plt.imshow(wordcloud, interpolation = \"bilinear\")\n",
    "plt.axis(\"off\")\n",
    "plt.title(\"Word Cloud for Customer\")\n",
    "plt.show()"
   ]
  }
 ],
 "metadata": {
  "kernelspec": {
   "display_name": "Python 3 (ipykernel)",
   "language": "python",
   "name": "python3"
  },
  "language_info": {
   "codemirror_mode": {
    "name": "ipython",
    "version": 3
   },
   "file_extension": ".py",
   "mimetype": "text/x-python",
   "name": "python",
   "nbconvert_exporter": "python",
   "pygments_lexer": "ipython3",
   "version": "3.12.1"
  }
 },
 "nbformat": 4,
 "nbformat_minor": 5
}
